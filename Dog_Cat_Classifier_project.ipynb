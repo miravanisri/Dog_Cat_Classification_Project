{
 "cells": [
  {
   "cell_type": "code",
   "execution_count": 1,
   "id": "12661fca",
   "metadata": {},
   "outputs": [
    {
     "name": "stdout",
     "output_type": "stream",
     "text": [
      "Requirement already satisfied: tensorFlow in c:\\users\\mirav\\anaconda3\\lib\\site-packages (2.9.1)Note: you may need to restart the kernel to use updated packages.\n",
      "Requirement already satisfied: libclang>=13.0.0 in c:\\users\\mirav\\anaconda3\\lib\\site-packages (from tensorFlow) (14.0.1)\n",
      "\n",
      "Requirement already satisfied: keras-preprocessing>=1.1.1 in c:\\users\\mirav\\anaconda3\\lib\\site-packages (from tensorFlow) (1.1.2)\n",
      "Requirement already satisfied: tensorflow-io-gcs-filesystem>=0.23.1 in c:\\users\\mirav\\anaconda3\\lib\\site-packages (from tensorFlow) (0.26.0)\n",
      "Requirement already satisfied: grpcio<2.0,>=1.24.3 in c:\\users\\mirav\\anaconda3\\lib\\site-packages (from tensorFlow) (1.42.0)\n",
      "Requirement already satisfied: tensorflow-estimator<2.10.0,>=2.9.0rc0 in c:\\users\\mirav\\anaconda3\\lib\\site-packages (from tensorFlow) (2.9.0)\n",
      "Requirement already satisfied: packaging in c:\\users\\mirav\\anaconda3\\lib\\site-packages (from tensorFlow) (21.3)\n",
      "Requirement already satisfied: termcolor>=1.1.0 in c:\\users\\mirav\\anaconda3\\lib\\site-packages (from tensorFlow) (1.1.0)\n",
      "Collecting protobuf<3.20,>=3.9.2\n",
      "  Downloading protobuf-3.19.6-cp39-cp39-win_amd64.whl (895 kB)\n",
      "Requirement already satisfied: setuptools in c:\\users\\mirav\\anaconda3\\lib\\site-packages (from tensorFlow) (61.2.0)\n",
      "Requirement already satisfied: flatbuffers<2,>=1.12 in c:\\users\\mirav\\anaconda3\\lib\\site-packages (from tensorFlow) (1.12)\n",
      "Requirement already satisfied: six>=1.12.0 in c:\\users\\mirav\\anaconda3\\lib\\site-packages (from tensorFlow) (1.16.0)\n",
      "Requirement already satisfied: tensorboard<2.10,>=2.9 in c:\\users\\mirav\\anaconda3\\lib\\site-packages (from tensorFlow) (2.9.1)\n",
      "Requirement already satisfied: gast<=0.4.0,>=0.2.1 in c:\\users\\mirav\\anaconda3\\lib\\site-packages (from tensorFlow) (0.4.0)\n",
      "Requirement already satisfied: opt-einsum>=2.3.2 in c:\\users\\mirav\\anaconda3\\lib\\site-packages (from tensorFlow) (3.3.0)\n",
      "Requirement already satisfied: keras<2.10.0,>=2.9.0rc0 in c:\\users\\mirav\\anaconda3\\lib\\site-packages (from tensorFlow) (2.9.0)\n",
      "Requirement already satisfied: numpy>=1.20 in c:\\users\\mirav\\anaconda3\\lib\\site-packages (from tensorFlow) (1.21.5)\n",
      "Requirement already satisfied: wrapt>=1.11.0 in c:\\users\\mirav\\anaconda3\\lib\\site-packages (from tensorFlow) (1.12.1)\n",
      "Requirement already satisfied: absl-py>=1.0.0 in c:\\users\\mirav\\anaconda3\\lib\\site-packages (from tensorFlow) (1.1.0)\n",
      "Requirement already satisfied: google-pasta>=0.1.1 in c:\\users\\mirav\\anaconda3\\lib\\site-packages (from tensorFlow) (0.2.0)\n",
      "Requirement already satisfied: astunparse>=1.6.0 in c:\\users\\mirav\\anaconda3\\lib\\site-packages (from tensorFlow) (1.6.3)\n",
      "Requirement already satisfied: h5py>=2.9.0 in c:\\users\\mirav\\anaconda3\\lib\\site-packages (from tensorFlow) (3.6.0)\n",
      "Requirement already satisfied: typing-extensions>=3.6.6 in c:\\users\\mirav\\anaconda3\\lib\\site-packages (from tensorFlow) (4.1.1)\n",
      "Requirement already satisfied: wheel<1.0,>=0.23.0 in c:\\users\\mirav\\anaconda3\\lib\\site-packages (from astunparse>=1.6.0->tensorFlow) (0.37.1)\n",
      "Requirement already satisfied: werkzeug>=1.0.1 in c:\\users\\mirav\\anaconda3\\lib\\site-packages (from tensorboard<2.10,>=2.9->tensorFlow) (2.0.3)\n",
      "Requirement already satisfied: google-auth<3,>=1.6.3 in c:\\users\\mirav\\anaconda3\\lib\\site-packages (from tensorboard<2.10,>=2.9->tensorFlow) (1.33.0)\n",
      "Requirement already satisfied: requests<3,>=2.21.0 in c:\\users\\mirav\\anaconda3\\lib\\site-packages (from tensorboard<2.10,>=2.9->tensorFlow) (2.27.1)\n",
      "Requirement already satisfied: tensorboard-data-server<0.7.0,>=0.6.0 in c:\\users\\mirav\\anaconda3\\lib\\site-packages (from tensorboard<2.10,>=2.9->tensorFlow) (0.6.1)\n",
      "Requirement already satisfied: tensorboard-plugin-wit>=1.6.0 in c:\\users\\mirav\\anaconda3\\lib\\site-packages (from tensorboard<2.10,>=2.9->tensorFlow) (1.8.1)\n",
      "Requirement already satisfied: google-auth-oauthlib<0.5,>=0.4.1 in c:\\users\\mirav\\anaconda3\\lib\\site-packages (from tensorboard<2.10,>=2.9->tensorFlow) (0.4.6)\n",
      "Requirement already satisfied: markdown>=2.6.8 in c:\\users\\mirav\\anaconda3\\lib\\site-packages (from tensorboard<2.10,>=2.9->tensorFlow) (3.3.4)\n",
      "Requirement already satisfied: rsa<5,>=3.1.4 in c:\\users\\mirav\\anaconda3\\lib\\site-packages (from google-auth<3,>=1.6.3->tensorboard<2.10,>=2.9->tensorFlow) (4.7.2)\n",
      "Requirement already satisfied: cachetools<5.0,>=2.0.0 in c:\\users\\mirav\\anaconda3\\lib\\site-packages (from google-auth<3,>=1.6.3->tensorboard<2.10,>=2.9->tensorFlow) (4.2.2)\n",
      "Requirement already satisfied: pyasn1-modules>=0.2.1 in c:\\users\\mirav\\anaconda3\\lib\\site-packages (from google-auth<3,>=1.6.3->tensorboard<2.10,>=2.9->tensorFlow) (0.2.8)\n",
      "Requirement already satisfied: requests-oauthlib>=0.7.0 in c:\\users\\mirav\\anaconda3\\lib\\site-packages (from google-auth-oauthlib<0.5,>=0.4.1->tensorboard<2.10,>=2.9->tensorFlow) (1.3.1)\n",
      "Requirement already satisfied: pyasn1<0.5.0,>=0.4.6 in c:\\users\\mirav\\anaconda3\\lib\\site-packages (from pyasn1-modules>=0.2.1->google-auth<3,>=1.6.3->tensorboard<2.10,>=2.9->tensorFlow) (0.4.8)\n",
      "Requirement already satisfied: charset-normalizer~=2.0.0 in c:\\users\\mirav\\anaconda3\\lib\\site-packages (from requests<3,>=2.21.0->tensorboard<2.10,>=2.9->tensorFlow) (2.0.4)\n",
      "Requirement already satisfied: certifi>=2017.4.17 in c:\\users\\mirav\\anaconda3\\lib\\site-packages (from requests<3,>=2.21.0->tensorboard<2.10,>=2.9->tensorFlow) (2022.12.7)\n",
      "Requirement already satisfied: urllib3<1.27,>=1.21.1 in c:\\users\\mirav\\anaconda3\\lib\\site-packages (from requests<3,>=2.21.0->tensorboard<2.10,>=2.9->tensorFlow) (1.26.9)\n",
      "Requirement already satisfied: idna<4,>=2.5 in c:\\users\\mirav\\anaconda3\\lib\\site-packages (from requests<3,>=2.21.0->tensorboard<2.10,>=2.9->tensorFlow) (3.3)\n",
      "Requirement already satisfied: oauthlib>=3.0.0 in c:\\users\\mirav\\anaconda3\\lib\\site-packages (from requests-oauthlib>=0.7.0->google-auth-oauthlib<0.5,>=0.4.1->tensorboard<2.10,>=2.9->tensorFlow) (3.2.0)\n",
      "Requirement already satisfied: pyparsing!=3.0.5,>=2.0.2 in c:\\users\\mirav\\anaconda3\\lib\\site-packages (from packaging->tensorFlow) (3.0.4)\n",
      "Installing collected packages: protobuf\n",
      "  Attempting uninstall: protobuf\n",
      "    Found existing installation: protobuf 3.20.3\n",
      "    Uninstalling protobuf-3.20.3:\n",
      "      Successfully uninstalled protobuf-3.20.3\n",
      "Successfully installed protobuf-3.19.6\n"
     ]
    }
   ],
   "source": [
    "pip install tensorFlow"
   ]
  },
  {
   "cell_type": "code",
   "execution_count": 2,
   "id": "2c75caef",
   "metadata": {},
   "outputs": [
    {
     "name": "stdout",
     "output_type": "stream",
     "text": [
      "Requirement already satisfied: keras in c:\\users\\mirav\\anaconda3\\lib\\site-packages (2.9.0)\n",
      "Note: you may need to restart the kernel to use updated packages.\n"
     ]
    }
   ],
   "source": [
    "pip install keras"
   ]
  },
  {
   "cell_type": "code",
   "execution_count": 1,
   "id": "051dd9ef",
   "metadata": {},
   "outputs": [],
   "source": [
    "import tensorflow as tf\n",
    "from keras.preprocessing.image import ImageDataGenerator\n"
   ]
  },
  {
   "cell_type": "code",
   "execution_count": 2,
   "id": "fb2f31d6",
   "metadata": {},
   "outputs": [
    {
     "name": "stdout",
     "output_type": "stream",
     "text": [
      "Found 8000 images belonging to 2 classes.\n"
     ]
    }
   ],
   "source": [
    "train_gen=ImageDataGenerator(rescale=1./255,shear_range=0.2,zoom_range=0.2,horizontal_flip=True)\n",
    "train_set=train_gen.flow_from_directory('datasets/dogs_cats/training_set',target_size=(64,64),batch_size=32,class_mode='binary')\n"
   ]
  },
  {
   "cell_type": "code",
   "execution_count": 3,
   "id": "91007ee0",
   "metadata": {},
   "outputs": [
    {
     "name": "stdout",
     "output_type": "stream",
     "text": [
      "Found 2000 images belonging to 2 classes.\n"
     ]
    }
   ],
   "source": [
    "test_gen=ImageDataGenerator(rescale=1./255,shear_range=0.2,zoom_range=0.2,horizontal_flip=True)\n",
    "test_set=test_gen.flow_from_directory('datasets/dogs_cats/test_set',target_size=(64,64),batch_size=32,class_mode='binary')\n"
   ]
  },
  {
   "cell_type": "markdown",
   "id": "165578e1",
   "metadata": {},
   "source": [
    "## PART2 BULIDING CNN\n"
   ]
  },
  {
   "cell_type": "markdown",
   "id": "e16e01ac",
   "metadata": {},
   "source": [
    "### Intialize CNN"
   ]
  },
  {
   "cell_type": "code",
   "execution_count": 4,
   "id": "df51b5cd",
   "metadata": {},
   "outputs": [],
   "source": [
    "cnn=tf.keras.models.Sequential()"
   ]
  },
  {
   "cell_type": "markdown",
   "id": "c72a9aa3",
   "metadata": {},
   "source": [
    "### Step1-Convolution"
   ]
  },
  {
   "cell_type": "code",
   "execution_count": 5,
   "id": "9644b727",
   "metadata": {},
   "outputs": [],
   "source": [
    "cnn.add(tf.keras.layers.Conv2D(filters=32,kernel_size=3,activation='relu',input_shape=[64,64,3]))"
   ]
  },
  {
   "cell_type": "markdown",
   "id": "c4bf229f",
   "metadata": {},
   "source": [
    "### step2-Pooling"
   ]
  },
  {
   "cell_type": "code",
   "execution_count": 6,
   "id": "5dfcf013",
   "metadata": {},
   "outputs": [],
   "source": [
    "cnn.add(tf.keras.layers.MaxPooling2D(pool_size=2, strides=2))\n"
   ]
  },
  {
   "cell_type": "markdown",
   "id": "bdc9a961",
   "metadata": {},
   "source": [
    "### Adding Second Convolutional Layer"
   ]
  },
  {
   "cell_type": "code",
   "execution_count": 7,
   "id": "493c7e51",
   "metadata": {},
   "outputs": [],
   "source": [
    "cnn.add(tf.keras.layers.Conv2D(filters=32,kernel_size=3,activation='relu'))\n",
    "cnn.add(tf.keras.layers.MaxPooling2D(pool_size=2, strides=2))"
   ]
  },
  {
   "cell_type": "markdown",
   "id": "80b93017",
   "metadata": {},
   "source": [
    "### Flattening"
   ]
  },
  {
   "cell_type": "code",
   "execution_count": 8,
   "id": "ddcb6a77",
   "metadata": {},
   "outputs": [],
   "source": [
    "cnn.add(tf.keras.layers.Flatten())"
   ]
  },
  {
   "cell_type": "markdown",
   "id": "26e0f175",
   "metadata": {},
   "source": [
    "### Full Connection"
   ]
  },
  {
   "cell_type": "code",
   "execution_count": 9,
   "id": "dbb956a1",
   "metadata": {},
   "outputs": [],
   "source": [
    "cnn.add(tf.keras.layers.Dense(units=128,activation='relu'))\n"
   ]
  },
  {
   "cell_type": "code",
   "execution_count": 10,
   "id": "1cb2d48a",
   "metadata": {},
   "outputs": [],
   "source": [
    "cnn.add(tf.keras.layers.Dense(units=1,activation='sigmoid'))\n"
   ]
  },
  {
   "cell_type": "code",
   "execution_count": 11,
   "id": "f12c3b5e",
   "metadata": {},
   "outputs": [],
   "source": [
    "cnn.compile(optimizer='adam',loss='binary_crossentropy',metrics=['accuracy'])\n"
   ]
  },
  {
   "cell_type": "code",
   "execution_count": 12,
   "id": "57544e94",
   "metadata": {},
   "outputs": [
    {
     "name": "stdout",
     "output_type": "stream",
     "text": [
      "Epoch 1/25\n",
      "250/250 [==============================] - 85s 336ms/step - loss: 0.6650 - accuracy: 0.5960 - val_loss: 0.6178 - val_accuracy: 0.6750\n",
      "Epoch 2/25\n",
      "250/250 [==============================] - 75s 300ms/step - loss: 0.5881 - accuracy: 0.6833 - val_loss: 0.5925 - val_accuracy: 0.6815\n",
      "Epoch 3/25\n",
      "250/250 [==============================] - 74s 296ms/step - loss: 0.5392 - accuracy: 0.7235 - val_loss: 0.5307 - val_accuracy: 0.7285\n",
      "Epoch 4/25\n",
      "250/250 [==============================] - 76s 306ms/step - loss: 0.5228 - accuracy: 0.7412 - val_loss: 0.5165 - val_accuracy: 0.7480\n",
      "Epoch 5/25\n",
      "250/250 [==============================] - 75s 302ms/step - loss: 0.4892 - accuracy: 0.7660 - val_loss: 0.5242 - val_accuracy: 0.7450\n",
      "Epoch 6/25\n",
      "250/250 [==============================] - 76s 305ms/step - loss: 0.4738 - accuracy: 0.7756 - val_loss: 0.4872 - val_accuracy: 0.7670\n",
      "Epoch 7/25\n",
      "250/250 [==============================] - 71s 284ms/step - loss: 0.4669 - accuracy: 0.7761 - val_loss: 0.4706 - val_accuracy: 0.7815\n",
      "Epoch 8/25\n",
      "250/250 [==============================] - 67s 269ms/step - loss: 0.4523 - accuracy: 0.7834 - val_loss: 0.4720 - val_accuracy: 0.7785\n",
      "Epoch 9/25\n",
      "250/250 [==============================] - 67s 268ms/step - loss: 0.4356 - accuracy: 0.7981 - val_loss: 0.4505 - val_accuracy: 0.7905\n",
      "Epoch 10/25\n",
      "250/250 [==============================] - 67s 267ms/step - loss: 0.4204 - accuracy: 0.8069 - val_loss: 0.4600 - val_accuracy: 0.7830\n",
      "Epoch 11/25\n",
      "250/250 [==============================] - 67s 268ms/step - loss: 0.4137 - accuracy: 0.8051 - val_loss: 0.4594 - val_accuracy: 0.7870\n",
      "Epoch 12/25\n",
      "250/250 [==============================] - 67s 266ms/step - loss: 0.4032 - accuracy: 0.8152 - val_loss: 0.4577 - val_accuracy: 0.7915\n",
      "Epoch 13/25\n",
      "250/250 [==============================] - 67s 269ms/step - loss: 0.3904 - accuracy: 0.8253 - val_loss: 0.4670 - val_accuracy: 0.7980\n",
      "Epoch 14/25\n",
      "250/250 [==============================] - 68s 272ms/step - loss: 0.3790 - accuracy: 0.8267 - val_loss: 0.4705 - val_accuracy: 0.7920\n",
      "Epoch 15/25\n",
      "250/250 [==============================] - 66s 263ms/step - loss: 0.3745 - accuracy: 0.8289 - val_loss: 0.4262 - val_accuracy: 0.8065\n",
      "Epoch 16/25\n",
      "250/250 [==============================] - 66s 264ms/step - loss: 0.3702 - accuracy: 0.8298 - val_loss: 0.4358 - val_accuracy: 0.8020\n",
      "Epoch 17/25\n",
      "250/250 [==============================] - 66s 264ms/step - loss: 0.3555 - accuracy: 0.8397 - val_loss: 0.4352 - val_accuracy: 0.8125\n",
      "Epoch 18/25\n",
      "250/250 [==============================] - 67s 266ms/step - loss: 0.3463 - accuracy: 0.8466 - val_loss: 0.4443 - val_accuracy: 0.8005\n",
      "Epoch 19/25\n",
      "250/250 [==============================] - 67s 268ms/step - loss: 0.3340 - accuracy: 0.8484 - val_loss: 0.4368 - val_accuracy: 0.8105\n",
      "Epoch 20/25\n",
      "250/250 [==============================] - 67s 269ms/step - loss: 0.3307 - accuracy: 0.8519 - val_loss: 0.4425 - val_accuracy: 0.8080\n",
      "Epoch 21/25\n",
      "250/250 [==============================] - 67s 269ms/step - loss: 0.3140 - accuracy: 0.8654 - val_loss: 0.4612 - val_accuracy: 0.8080\n",
      "Epoch 22/25\n",
      "250/250 [==============================] - 69s 276ms/step - loss: 0.3064 - accuracy: 0.8679 - val_loss: 0.4745 - val_accuracy: 0.8105\n",
      "Epoch 23/25\n",
      "250/250 [==============================] - 67s 270ms/step - loss: 0.3024 - accuracy: 0.8694 - val_loss: 0.4486 - val_accuracy: 0.8030\n",
      "Epoch 24/25\n",
      "250/250 [==============================] - 67s 269ms/step - loss: 0.2949 - accuracy: 0.8709 - val_loss: 0.4489 - val_accuracy: 0.8025\n",
      "Epoch 25/25\n",
      "250/250 [==============================] - 70s 279ms/step - loss: 0.2931 - accuracy: 0.8740 - val_loss: 0.4587 - val_accuracy: 0.7975\n"
     ]
    },
    {
     "data": {
      "text/plain": [
       "<keras.callbacks.History at 0x1af34b23160>"
      ]
     },
     "execution_count": 12,
     "metadata": {},
     "output_type": "execute_result"
    }
   ],
   "source": [
    "cnn.fit(x=train_set,validation_data=test_set,epochs=25)"
   ]
  },
  {
   "cell_type": "code",
   "execution_count": 19,
   "id": "7f4c335e",
   "metadata": {},
   "outputs": [
    {
     "name": "stdout",
     "output_type": "stream",
     "text": [
      "1/1 [==============================] - 0s 31ms/step\n",
      "The image is a dog\n"
     ]
    }
   ],
   "source": [
    "import numpy as np\n",
    "from tensorflow.keras.preprocessing.image import load_img, img_to_array\n",
    "\n",
    "# Load and preprocess the test image\n",
    "test_image = load_img('datasets/dogs_cats/single_prediction/cat_dog6.jpg', target_size=(64, 64))\n",
    "test_image = img_to_array(test_image)\n",
    "test_image = np.expand_dims(test_image, axis=0)\n",
    "\n",
    "# Make the prediction and the rest of your code remains the same\n",
    "\n",
    "\n",
    "# Make the prediction\n",
    "result = cnn.predict(test_image)\n",
    "\n",
    "# Assuming you have already defined 'training_set.class_indices'\n",
    "# It should be something like: {'cat': 0, 'dog': 1}\n",
    "\n",
    "# Determine the class of the prediction\n",
    "if result[0][0] == 1:\n",
    "    prediction = 'dog'\n",
    "else:\n",
    "    prediction = 'cat'\n",
    "\n",
    "# Print the prediction\n",
    "print(f'The image is a {prediction}')\n"
   ]
  },
  {
   "cell_type": "code",
   "execution_count": null,
   "id": "fd183844",
   "metadata": {},
   "outputs": [],
   "source": []
  }
 ],
 "metadata": {
  "kernelspec": {
   "display_name": "Python 3 (ipykernel)",
   "language": "python",
   "name": "python3"
  },
  "language_info": {
   "codemirror_mode": {
    "name": "ipython",
    "version": 3
   },
   "file_extension": ".py",
   "mimetype": "text/x-python",
   "name": "python",
   "nbconvert_exporter": "python",
   "pygments_lexer": "ipython3",
   "version": "3.9.12"
  }
 },
 "nbformat": 4,
 "nbformat_minor": 5
}
